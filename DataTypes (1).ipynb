{
  "nbformat": 4,
  "nbformat_minor": 0,
  "metadata": {
    "colab": {
      "provenance": []
    },
    "kernelspec": {
      "name": "python3",
      "display_name": "Python 3"
    },
    "language_info": {
      "name": "python"
    }
  },
  "cells": [
    {
      "cell_type": "markdown",
      "source": [
        "#Data Types and Structures Que-Ans:"
      ],
      "metadata": {
        "id": "Hb4J4c5kJKlw"
      }
    },
    {
      "cell_type": "markdown",
      "source": [
        "**1.What are data structures, and why are they important?**\n",
        "\n",
        "Data structures in Python are built-in or user-defined ways to store and organize data efficiently to perform operations like searching, sorting, and manipulation. They allow developers to manage data logically and efficiently within Python programs.\n",
        "\n",
        "1.Efficient Data Handling:\n",
        "\n",
        "  - Python data structures help organize data logically, making operations like searching and sorting faster.\n",
        "\n",
        "2.Efficient Data Handling:\n",
        "\n",
        "  - Python data structures help organize data logically, making operations like searching and sorting faster.\n",
        "\n",
        "3.Flexibility:\n",
        "  - Python provides dynamic and versatile data structures that can store heterogeneous data types and resize automatically.\n",
        "  \n",
        "4.Performance Optimization:\n",
        "\n",
        "  - Using the right data structure improves memory usage and speeds up operations, enhancing overall program efficiency.\n",
        "\n",
        "5.Problem Solving\n",
        "  -  Data structures are essential in algorithm design, enabling efficient solutions for tasks like data processing, machine learning, and web development.\n",
        "\n",
        "Common Built-in Data Structures in Python\n",
        "\n",
        "Python provides several powerful built-in data structures that fall into two main categories:\n",
        "\n",
        "1. Linear Data Structures (Ordered Collections)\n",
        "\n",
        "These structures organize elements sequentially.\n",
        "  - List (list):Ordered, mutable (can be changed), allows duplicate values.\n",
        "\n",
        "\n",
        "\n"
      ],
      "metadata": {
        "id": "p7484sclFebv"
      }
    },
    {
      "cell_type": "code",
      "source": [
        "#example:\n",
        "my_list = [1, 2, 3, \"hello\"]\n",
        "my_list.append(4)  # Adds an element"
      ],
      "metadata": {
        "id": "Z3kNIn8nHdsl"
      },
      "execution_count": null,
      "outputs": []
    },
    {
      "cell_type": "markdown",
      "source": [
        "  - Tuple(tuple): Ordered,immutable(cannot be changed),allows duplicate values."
      ],
      "metadata": {
        "id": "JUFTPdL4HrTW"
      }
    },
    {
      "cell_type": "code",
      "source": [
        "#example:\n",
        "my_tuple = (1,2,3, \"hello\")"
      ],
      "metadata": {
        "id": "Jr6EqYU6HqFa"
      },
      "execution_count": null,
      "outputs": []
    },
    {
      "cell_type": "markdown",
      "source": [
        "  - Stack (using list or collections.deque):\n",
        "\n",
        "      Follows Last-In-First-Out (LIFO) order.\n"
      ],
      "metadata": {
        "id": "T_4jNWzlIE5Q"
      }
    },
    {
      "cell_type": "code",
      "source": [
        "#example:\n",
        "stack = []\n",
        "stack.append(1)  # Push\n",
        "stack.pop()      # Pop"
      ],
      "metadata": {
        "id": "JIZCB9h_INTY"
      },
      "execution_count": null,
      "outputs": []
    },
    {
      "cell_type": "markdown",
      "source": [
        "  - Queue (using collections.deque)\n",
        "\n",
        "      Follows First-In-First-Out (FIFO) order.\n"
      ],
      "metadata": {
        "id": "solY_eqtIVMe"
      }
    },
    {
      "cell_type": "code",
      "source": [
        "#example:\n",
        "from collections import deque\n",
        "queue = deque([1, 2, 3])\n",
        "queue.append(4)\n",
        "queue.popleft()"
      ],
      "metadata": {
        "id": "7TWHWEIuIaI5"
      },
      "execution_count": null,
      "outputs": []
    },
    {
      "cell_type": "markdown",
      "source": [
        "2.Non-Linear Data Structures (Unordered or Hierarchical Collections)\n",
        "- Dictionary (dict):\n",
        "Stores data in key-value pairs, allows fast lookups.\n"
      ],
      "metadata": {
        "id": "MBL0jj3lIgv2"
      }
    },
    {
      "cell_type": "code",
      "source": [
        "my_dict = {'name': 'Alice', 'age': 25}\n",
        "print(my_dict['name'])"
      ],
      "metadata": {
        "colab": {
          "base_uri": "https://localhost:8080/"
        },
        "id": "U8HkO250IgBU",
        "outputId": "5a34eb3a-70b9-40a7-cb7f-79cb1a7eff2e"
      },
      "execution_count": null,
      "outputs": [
        {
          "output_type": "stream",
          "name": "stdout",
          "text": [
            "Alice\n"
          ]
        }
      ]
    },
    {
      "cell_type": "markdown",
      "source": [
        "  - Set (set):Unordered, mutable, does not allow duplicate values.\n"
      ],
      "metadata": {
        "id": "o25ESRZfI5Cq"
      }
    },
    {
      "cell_type": "code",
      "source": [
        "my_set = {1, 2, 3, 3}\n",
        "my_set.add(4)\n",
        "my_set"
      ],
      "metadata": {
        "colab": {
          "base_uri": "https://localhost:8080/"
        },
        "id": "M1GY938AI4sE",
        "outputId": "54c9d61f-ab9e-41fd-c12b-35ef8ab1312a"
      },
      "execution_count": null,
      "outputs": [
        {
          "output_type": "execute_result",
          "data": {
            "text/plain": [
              "{1, 2, 3, 4}"
            ]
          },
          "metadata": {},
          "execution_count": 5
        }
      ]
    },
    {
      "cell_type": "markdown",
      "source": [
        "**2.  Explain the difference between mutable and immutable data types with examples.**\n",
        "\n",
        "In Python, mutable and immutable refer to whether an object's value can be changed after it is created.\n",
        "\n",
        "1.Mutable Data Types:\n",
        "\n",
        "Mutable objects can be changed after they are created. This means you can modify their contents (e.g., add, remove, or update elements) without changing their identity (memory address).\n",
        "\n",
        "Examples of Mutable Data Types:\n",
        "- Lists (list)\n",
        "- Dictionaries (dict)\n",
        "- Sets (set)\n",
        "- Byte Arrays (bytearray)\n",
        "\n",
        "\n",
        "\n"
      ],
      "metadata": {
        "id": "OptROOnHJXT3"
      }
    },
    {
      "cell_type": "code",
      "source": [
        "#Example of Mutability:\n",
        "my_list = [1, 2, 3]\n",
        "print(id(my_list))  # Memory address before modification\n",
        "\n",
        "my_list.append(4)  # Modifying the list\n",
        "print(my_list)     # Output: [1, 2, 3, 4]\n",
        "print(id(my_list))  # Memory address remains the same"
      ],
      "metadata": {
        "colab": {
          "base_uri": "https://localhost:8080/"
        },
        "id": "j8bq67JdLIJh",
        "outputId": "fbed4e8c-1feb-45da-f244-c45b272544df"
      },
      "execution_count": null,
      "outputs": [
        {
          "output_type": "stream",
          "name": "stdout",
          "text": [
            "136895466057792\n",
            "[1, 2, 3, 4]\n",
            "136895466057792\n"
          ]
        }
      ]
    },
    {
      "cell_type": "markdown",
      "source": [
        "Key difference between Mutable and Immutable Types:\n",
        "  - Mutable is allowed Modification(in- place changes), Immutable is not allowed modification (new object created)\n",
        "  - Mutable eg: List, Dictionary, Set\n",
        "  - Immutable eg: String,Tuple,Integer\n",
        "  - In mutablity can reuse memory\n",
        "  - In Immutability New memory allocated for changes.\n",
        "  - performance:\n",
        "    - Mutable:Slower for frequent changes\n",
        "    - Immutable:Faster for fixed values\n",
        "  - Mutable:Not Hashable(cannot be used as dict keys)\n",
        "  - Immutable:hashable(can be used as dict keys)\n",
        "\n",
        "Why Does It Matter?\n",
        "\n",
        "  - 1.Data Integrity: Immutable types are useful when you need to ensure data stays unchanged (e.g., using tuples as dictionary keys).\n",
        "  - 2.Performance Optimization: Mutable objects are better when frequent modifications are needed.\n",
        "  -3.Thread Safety: Immutable types are thread-safe since they cannot be changed by multiple threads.\n"
      ],
      "metadata": {
        "id": "4yYZ2dr6L1Iz"
      }
    },
    {
      "cell_type": "markdown",
      "source": [
        "2. Immutable Data Types:\n",
        "\n",
        "Immutable objects cannot be changed once they are created. Any modification results in the creation of a new object with a different memory address.\n",
        "\n",
        "Examples of Immutable Data Types:\n",
        "\n",
        "- Numbers (int, float, complex)\n",
        "- Strings (str)\n",
        "- Tuples (tuple)\n",
        "- Frozen Sets (frozenset)\n",
        "- Bytes (bytes)\n"
      ],
      "metadata": {
        "id": "vjUL_tmwLRMW"
      }
    },
    {
      "cell_type": "code",
      "source": [
        "#example of Immutabilty\n",
        "my_string = \"hello\"\n",
        "print(id(my_string))  # Memory address before modification\n",
        "\n",
        "my_string += \" world\"  # Attempt to modify the string\n",
        "print(my_string)       # Output: \"hello world\"\n",
        "print(id(my_string))   # Memory address has changed"
      ],
      "metadata": {
        "colab": {
          "base_uri": "https://localhost:8080/"
        },
        "id": "R461nwbdLQ2e",
        "outputId": "7b6fd825-0a06-44f1-c7e5-de527d1db1cc"
      },
      "execution_count": null,
      "outputs": [
        {
          "output_type": "stream",
          "name": "stdout",
          "text": [
            "136895479179568\n",
            "hello world\n",
            "136895489649840\n"
          ]
        }
      ]
    },
    {
      "cell_type": "markdown",
      "source": [
        "**3.What are the main differences between lists and tuples in Python.**\n",
        "\n",
        "Python provides both lists and tuples to store collections of items, but they have key differences in terms of mutability, performance, and use cases.\n",
        "\n",
        "1. Mutability:\n",
        "\n",
        "Lists: Mutable (can be modified after creation)\n",
        "Tuples: Immutable (cannot be modified after creation)\n"
      ],
      "metadata": {
        "id": "nDlRgSciOLqg"
      }
    },
    {
      "cell_type": "code",
      "source": [
        "# List (Mutable)\n",
        "my_list = [1, 2, 3]\n",
        "my_list.append(4)  # Allowed\n",
        "print(my_list)  # Output: [1, 2, 3, 4]\n",
        "\n",
        "# Tuple (Immutable)\n",
        "my_tuple = (1, 2, 3)\n",
        "# my_tuple.append(4)  # Error: 'tuple' object has no attribute 'append'"
      ],
      "metadata": {
        "id": "gBNobPEnOyE4"
      },
      "execution_count": null,
      "outputs": []
    },
    {
      "cell_type": "markdown",
      "source": [
        "2. Syntax Differences:\n",
        "\n",
        "Lists: Defined using square brackets []\n",
        "\n",
        "Tuples: Defined using parentheses ()\n"
      ],
      "metadata": {
        "id": "K4y2KkQ4O5RJ"
      }
    },
    {
      "cell_type": "code",
      "source": [
        "my_list = [1, 2, 3]  # List\n",
        "my_tuple = (1, 2, 3)  # Tuple"
      ],
      "metadata": {
        "id": "HILMyDfQO9e0"
      },
      "execution_count": null,
      "outputs": []
    },
    {
      "cell_type": "markdown",
      "source": [
        "3. Performance:\n",
        "\n",
        "Lists: Slower due to mutability (more memory used and overhead for operations).\n",
        "\n",
        "Tuples: Faster due to immutability (fixed memory, less overhead).\n"
      ],
      "metadata": {
        "id": "65pz353hPAEc"
      }
    },
    {
      "cell_type": "code",
      "source": [
        "import timeit\n",
        "\n",
        "list_time = timeit.timeit(stmt=\"[1,2,3,4,5]\", number=1000000)\n",
        "tuple_time = timeit.timeit(stmt=\"(1,2,3,4,5)\", number=1000000)\n",
        "\n",
        "print(\"List creation time:\", list_time)\n",
        "print(\"Tuple creation time:\", tuple_time)"
      ],
      "metadata": {
        "id": "GtnEccFMPFKk"
      },
      "execution_count": null,
      "outputs": []
    },
    {
      "cell_type": "markdown",
      "source": [
        "4. Memory Usage:\n",
        "Lists: Consume more memory because they store additional information for resizing and modification.\n",
        "Tuples: Use less memory as they are fixed in size"
      ],
      "metadata": {
        "id": "MUvLvhX4PJ8y"
      }
    },
    {
      "cell_type": "code",
      "source": [
        "import sys\n",
        "\n",
        "list_example = [1, 2, 3, 4, 5]\n",
        "tuple_example = (1, 2, 3, 4, 5)\n",
        "\n",
        "print(sys.getsizeof(list_example))  # Larger memory usage\n",
        "print(sys.getsizeof(tuple_example))  # Smaller memory usage\n"
      ],
      "metadata": {
        "id": "vmSD3Gj7PTXQ"
      },
      "execution_count": null,
      "outputs": []
    },
    {
      "cell_type": "markdown",
      "source": [
        "5. Use as Dictionary Keys:\n",
        "\n",
        "Lists: Cannot be used as dictionary keys (because they are mutable).\n",
        "\n",
        "Tuples: Can be used as dictionary keys (because they are immutable and hashable).\n"
      ],
      "metadata": {
        "id": "b15Td-MvPX49"
      }
    },
    {
      "cell_type": "code",
      "source": [
        "# Invalid - Lists cannot be dictionary keys\n",
        "# my_dict = {[1, 2, 3]: \"value\"}  # Error\n",
        "\n",
        "# Valid - Tuples can be dictionary keys\n",
        "my_dict = {(1, 2, 3): \"value\"}\n",
        "print(my_dict[(1, 2, 3)])  # Output: value"
      ],
      "metadata": {
        "id": "eW9W2B_RPa-p"
      },
      "execution_count": null,
      "outputs": []
    },
    {
      "cell_type": "markdown",
      "source": [
        "6. Functionality & Methods Available:\n",
        "\n",
        "Lists: More built-in methods for manipulation, such as append(), remove(), sort(), etc.\n",
        "\n",
        "Tuples: Fewer methods available, mainly count() and index()."
      ],
      "metadata": {
        "id": "qjrITdnkPftO"
      }
    },
    {
      "cell_type": "code",
      "source": [
        "my_list = [1, 2, 3]\n",
        "my_list.append(4)  # Works\n",
        "\n",
        "my_tuple = (1, 2, 3)\n",
        "# my_tuple.append(4)  # Error: Tuples have no 'append' method"
      ],
      "metadata": {
        "id": "DS5u46UjPisn"
      },
      "execution_count": null,
      "outputs": []
    },
    {
      "cell_type": "markdown",
      "source": [
        "7. Use Cases:\n",
        "\n",
        "Lists: Suitable when data needs to be modified frequently (e.g., dynamic collections, CRUD operations).\n",
        "\n",
        "Tuples: Best for fixed collections, ensuring data integrity (e.g., coordinates, database records)."
      ],
      "metadata": {
        "id": "83_AK6PTPoGM"
      }
    },
    {
      "cell_type": "markdown",
      "source": [
        "8. Nesting and Iteration:\n",
        "\n",
        "Both lists and tuples can store nested elements and be iterated over using loops. However, tuples tend to iterate slightly faster.\n"
      ],
      "metadata": {
        "id": "TYp7r3Z_PuBn"
      }
    },
    {
      "cell_type": "code",
      "source": [
        "# Nested list and tuple\n",
        "nested_list = [[1, 2], [3, 4]]\n",
        "nested_tuple = ((1, 2), (3, 4))\n",
        "\n",
        "for item in nested_tuple:\n",
        "    print(item)\n"
      ],
      "metadata": {
        "id": "YtuKyUNBPnzP"
      },
      "execution_count": null,
      "outputs": []
    },
    {
      "cell_type": "markdown",
      "source": [
        "4.Describe how dictionaries store data.\n",
        "\n",
        "In Python, dictionaries store data using a hash table (or hash map) implementation. A dictionary is an unordered collection of key-value pairs, where each key must be unique and hashable.\n",
        "\n",
        "How Data is Stored in a Dictionary:\n",
        "\n",
        "1.Hashing the Key\n",
        "  - When a key-value pair is added to a dictionary, Python computes a hash of the key using the built-in hash() function.\n",
        "  - This hash value determines where the key-value pair is stored in an internal array (also called a bucket array).\n",
        "\n",
        "2.Indexing in Buckets\n",
        "  - The hash value is used to determine an index in the bucket array.\n",
        "  - If multiple keys hash to the same index (a collision), Python resolves it using open addressing or chaining.\n",
        "\n",
        "3.Storage and Lookup\n",
        "  - Values are stored in the dictionary along with their keys.\n",
        "  - Lookup is efficient because Python can quickly compute the key’s hash and locate its corresponding value.\n",
        "\n",
        "Dictionary Performance:\n",
        "  - Insertion, Deletion, and Lookup → O(1) on average (thanks to hash table properties).\n",
        "  - Worst case → O(n) (if too many collisions occur, but this is rare due to Python’s well-optimized hash table)."
      ],
      "metadata": {
        "id": "KIgyr5xlLVwg"
      }
    },
    {
      "cell_type": "code",
      "source": [
        "#example:\n",
        "my_dict = {\"name\": \"Alice\", \"age\": 25, \"city\": \"New York\"}\n",
        "print(my_dict[\"name\"])  # Quick lookup using the key"
      ],
      "metadata": {
        "id": "lMrfylOVM0G8"
      },
      "execution_count": null,
      "outputs": []
    },
    {
      "cell_type": "markdown",
      "source": [
        "Key Takeaways:\n",
        "  -  Fast access due to hashing.\n",
        "  -  Keys must be immutable (e.g., strings, numbers, tuples with immutable elements).\n",
        "  - Values can be any data type.\n",
        "  - Order is preserved (since Python 3.7+)."
      ],
      "metadata": {
        "id": "2sar9pvKM58V"
      }
    },
    {
      "cell_type": "markdown",
      "source": [
        "**5. Why might you use a set instead of a list in Python?**\n",
        "\n",
        "We mighht use a set instead of a list in Python for several reasons, depending on your use case. Here are the key advantages of sets over lists:\n",
        "\n",
        "1.Faster Lookups (O(1) vs. O(n))\n",
        "  - Sets use a hash table, allowing for average O(1) time complexity for membership checks (x in my_set).\n",
        "  - Lists require an O(n) linear search, making them slower for large datasets.\n"
      ],
      "metadata": {
        "id": "PqgBGN57NF2d"
      }
    },
    {
      "cell_type": "code",
      "source": [
        "my_list = [1, 2, 3, 4, 5]\n",
        "print(3 in my_list)  # O(n) time complexity\n",
        "\n",
        "my_set = {1, 2, 3, 4, 5}\n",
        "print(3 in my_set)  # O(1) time complexity"
      ],
      "metadata": {
        "id": "YJKbKgfCN924"
      },
      "execution_count": null,
      "outputs": []
    },
    {
      "cell_type": "markdown",
      "source": [
        "2️.Automatic Uniqueness (No Duplicates)\n",
        "  - Sets do not allow duplicate values, while lists do.\n",
        "  - This makes sets ideal for filtering out duplicates efficiently."
      ],
      "metadata": {
        "id": "UXq1h2gfODON"
      }
    },
    {
      "cell_type": "code",
      "source": [
        "my_list = [1, 2, 2, 3, 4, 4, 5]\n",
        "unique_set = set(my_list)  # {1, 2, 3, 4, 5}"
      ],
      "metadata": {
        "id": "FucaVSHlOC6u"
      },
      "execution_count": null,
      "outputs": []
    },
    {
      "cell_type": "markdown",
      "source": [
        "3️. Set Operations (Union, Intersection, Difference)\n",
        "- Sets support powerful mathematical operations like union, intersection, and difference.\n",
        "\n"
      ],
      "metadata": {
        "id": "efK15qK8OSQv"
      }
    },
    {
      "cell_type": "code",
      "source": [
        "A = {1, 2, 3, 4}\n",
        "B = {3, 4, 5, 6}\n",
        "\n",
        "print(A | B)  # Union → {1, 2, 3, 4, 5, 6}\n",
        "print(A & B)  # Intersection → {3, 4}\n",
        "print(A - B)  # Difference → {1, 2}"
      ],
      "metadata": {
        "id": "leX2p-FyObuO"
      },
      "execution_count": null,
      "outputs": []
    },
    {
      "cell_type": "markdown",
      "source": [
        "4️. Memory Efficiency (For Large Unique Data)\n",
        "\n",
        "Since sets store only unique values and use hash tables, they can be more memory-efficient than lists when dealing with large datasets of distinct elements.\n"
      ],
      "metadata": {
        "id": "yY4TAjd7Ogth"
      }
    },
    {
      "cell_type": "markdown",
      "source": [
        "**6.What is a string in Python, and how is it different from a list ?**\n",
        "\n",
        "A string in Python is a sequence of characters enclosed in single ('), double (\"), or triple (''' \"\"\") quotes. Strings are immutable, meaning their contents cannot be changed after creation"
      ],
      "metadata": {
        "id": "k9JL375fO4sQ"
      }
    },
    {
      "cell_type": "code",
      "source": [
        "s = \"Hello, World!\"  # A string"
      ],
      "metadata": {
        "id": "rAvszTg_PQNK"
      },
      "execution_count": null,
      "outputs": []
    },
    {
      "cell_type": "markdown",
      "source": [
        "Example Differences:\n",
        "\n",
        "1️. Strings are Immutable, Lists are Mutable"
      ],
      "metadata": {
        "id": "QhILoOJ1PWbJ"
      }
    },
    {
      "cell_type": "code",
      "source": [
        "s = \"hello\"\n",
        "# s[0] = \"H\"  #  TypeError: 'str' object does not support item assignment\n",
        "\n",
        "lst = [\"h\", \"e\", \"l\", \"l\", \"o\"]\n",
        "lst[0] = \"H\"  # Allowed\n",
        "print(lst)  # ['H', 'e', 'l', 'l', 'o']"
      ],
      "metadata": {
        "id": "vFL3cE6RPhJM"
      },
      "execution_count": null,
      "outputs": []
    },
    {
      "cell_type": "markdown",
      "source": [
        "2️. Strings Only Store Characters, Lists Can Store Any Type"
      ],
      "metadata": {
        "id": "BIxfXmzgPm_G"
      }
    },
    {
      "cell_type": "code",
      "source": [
        "s = \"123\"  # Contains only characters\n",
        "\n",
        "lst = [1, \"hello\", 3.14]  # Can mix data types"
      ],
      "metadata": {
        "id": "LHOYDKLqPuT3"
      },
      "execution_count": null,
      "outputs": []
    },
    {
      "cell_type": "markdown",
      "source": [
        "3️. String-Specific Methods vs. List Methods"
      ],
      "metadata": {
        "id": "Bn5GVWtUPx5a"
      }
    },
    {
      "cell_type": "code",
      "source": [
        "s = \"hello world\"\n",
        "print(s.upper())   # HELLO WORLD (string method)\n",
        "print(s.split())   # ['hello', 'world'] (splits into list)\n",
        "\n",
        "lst = [\"apple\", \"banana\"]\n",
        "lst.append(\"cherry\")  # Adds an element\n",
        "print(lst)  # ['apple', 'banana', 'cherry']"
      ],
      "metadata": {
        "id": "yq3_gwhoP1n4"
      },
      "execution_count": null,
      "outputs": []
    },
    {
      "cell_type": "markdown",
      "source": [
        "When to Use a String vs. a List:\n",
        "  -  Use a string when dealing with text that won’t be modified.\n",
        "  -  Use a list when working with a collection of elements that may change.\n",
        "\n"
      ],
      "metadata": {
        "id": "M5Lh90vbP85h"
      }
    },
    {
      "cell_type": "markdown",
      "source": [
        "**7. How do tuples ensure data integrity in Python?**\n",
        "\n",
        "A tuple in Python is an immutable sequence, meaning its elements cannot be changed after creation. This immutability helps ensure data integrity by preventing accidental modifications.\n",
        "\n",
        "1️.Immutability Prevents Unintended Changes\n",
        "Once a tuple is created, its elements cannot be modified, added, or removed, ensuring that critical data remains consistent throughout the program.\n",
        "\n",
        "\n"
      ],
      "metadata": {
        "id": "ZiyNc_7BQKma"
      }
    },
    {
      "cell_type": "code",
      "source": [
        "data = (10, 20, 30)\n",
        "# data[0] = 100  #TypeError: 'tuple' object does not support item assignment"
      ],
      "metadata": {
        "id": "K1IPBFlNRmSv"
      },
      "execution_count": null,
      "outputs": []
    },
    {
      "cell_type": "markdown",
      "source": [
        "This prevents bugs caused by unintended modifications, making tuples ideal for storing constant values.\n",
        "\n",
        "2️. Tuples are Hashable (Can Be Used as Dictionary Keys)\n",
        "Since tuples are immutable, they are hashable if they contain only immutable elements. This allows them to be used as keys in dictionaries, ensuring that the key remains unchanged."
      ],
      "metadata": {
        "id": "M-JBZLhBRtQu"
      }
    },
    {
      "cell_type": "code",
      "source": [
        "coordinates = (40.7128, -74.0060)  # Latitude & Longitude\n",
        "location_data = {coordinates: \"New York\"}\n",
        "print(location_data[coordinates])  # New York"
      ],
      "metadata": {
        "id": "SNRHP-9uR3uv"
      },
      "execution_count": null,
      "outputs": []
    },
    {
      "cell_type": "markdown",
      "source": [
        "A list, on the other hand, cannot be used as a dictionary key because it is mutable.\n",
        "\n",
        "3️.Data Consistency in Function Arguments\n",
        "Tuples are commonly used when a function should return multiple values but ensure that those values stay grouped together and remain unchanged.\n",
        "\n",
        "\n"
      ],
      "metadata": {
        "id": "SyNSl6VER9iE"
      }
    },
    {
      "cell_type": "code",
      "source": [
        "def get_user_info():\n",
        "    return (\"Alice\", 25, \"Engineer\")  # Name, Age, Occupation\n",
        "\n",
        "user = get_user_info()\n",
        "# user[1] = 30  #  TypeError: 'tuple' object does not support item assignment"
      ],
      "metadata": {
        "id": "dtD8r0K0SGtq"
      },
      "execution_count": null,
      "outputs": []
    },
    {
      "cell_type": "markdown",
      "source": [
        "This ensures that the function's return values remain intact and cannot be altered accidentally.\n",
        "\n",
        "4️. Efficient Memory Usage & Performance\n",
        "Tuples are faster and more memory-efficient than lists because they have a fixed size and do not require extra memory for resizing."
      ],
      "metadata": {
        "id": "j3v34UjCSS-z"
      }
    },
    {
      "cell_type": "code",
      "source": [
        "import sys\n",
        "\n",
        "lst = [1, 2, 3]\n",
        "tpl = (1, 2, 3)\n",
        "\n",
        "print(sys.getsizeof(lst))  # Larger memory footprint\n",
        "print(sys.getsizeof(tpl))  # Smaller memory footprint"
      ],
      "metadata": {
        "id": "E04nT5_iSemE"
      },
      "execution_count": null,
      "outputs": []
    },
    {
      "cell_type": "markdown",
      "source": [
        "This makes tuples a great choice for large datasets that do not need modification.\n",
        "\n",
        "When to Use Tuples Over Lists?\n",
        "  - Use tuples when the data should remain unchanged (e.g., database records, fixed settings, coordinates).\n",
        "  - Use lists when the data needs to be modified (e.g., dynamic collections, user input storage).\n",
        "\n"
      ],
      "metadata": {
        "id": "1yYF5BmbSvVc"
      }
    },
    {
      "cell_type": "markdown",
      "source": [
        "8. What is a hash table, and how does it relate to dictionaries in Python?\n",
        "\n",
        "A hash table is a data structure that maps keys to values using a hash function. It allows for fast data retrieval, insertion, and deletion in an average-case O(1) time complexity.\n",
        "\n",
        "\n",
        "How It Works:\n",
        "\n",
        " - 1.A hash function converts a key into a numerical index.\n",
        " - 2.This index determines where the value is stored in an array (bucket list).\n",
        " - 3.If multiple keys map to the same index (collision), a strategy like chaining (linked lists) or open addressing (probing) is used to resolve it.\n",
        " - 4.Lookups are efficient because the index provides direct access to the value.\n",
        "\n",
        "How It Relates to Python Dictionaries (dict)\n",
        "\n",
        "Python’s built-in dictionary (dict) is implemented using a hash table:\n",
        "\n",
        "  - Each key in a dictionary is hashed using Python’s built-in hash() function.\n",
        "  - The resulting hash determines where the key-value pair is stored.\n",
        "  - Python handles collisions using open addressing with probing.\n",
        "  - Since dictionaries are backed by hash tables, operations like dict[key] run in O(1) time on average.\n"
      ],
      "metadata": {
        "id": "9UKqGsDxTBBA"
      }
    },
    {
      "cell_type": "code",
      "source": [
        "# Creating a dictionary (backed by a hash table)\n",
        "phone_book = {\n",
        "    \"Alice\": 1234,\n",
        "    \"Bob\": 5678,\n",
        "    \"Charlie\": 91011\n",
        "}\n",
        "\n",
        "# Accessing values (O(1) on average)\n",
        "print(phone_book[\"Alice\"])  # Output: 1234"
      ],
      "metadata": {
        "id": "0AFFmlfhtBRT"
      },
      "execution_count": null,
      "outputs": []
    },
    {
      "cell_type": "markdown",
      "source": [
        "Key Difference between Genral Hash Tables and Python dictionaries\n",
        "\n",
        " Hash Table:\n",
        "  - Collision Handiling:Chaining/Open Addressing.\n",
        "  - Key Types: Usually fixed (e.g., integers,strings)\n",
        "  - Memory efficiency : varies\n",
        "  - Oredering: No guatantee(except some modern versions)\n",
        "\n",
        "Python dict:\n",
        "  - Collision Handiling:Open addressing with probing\n",
        "  - Key Types: Any Hashable Object\n",
        "  - Memory efficiency : Optimized for resizing & Performance\n",
        "  - Oredering: Insertion Order maintained\n"
      ],
      "metadata": {
        "id": "dio1QUrktG_R"
      }
    },
    {
      "cell_type": "markdown",
      "source": [
        "**9.Can lists contain different data types in Python?**\n",
        "\n",
        "Yes! In Python, lists are highly flexible and can contain elements of different data types. Unlike arrays in some other languages (which require a fixed data type), Python lists can store integers, floats, strings, booleans, other lists, dictionaries, functions, or even custom objects in the same list.\n"
      ],
      "metadata": {
        "id": "_f00-rl9u7yE"
      }
    },
    {
      "cell_type": "code",
      "source": [
        "#Example of a Mixed-Type List:\n",
        "Mixed_list = [1, 3.14, \"Hello\", True, [1, 2, 3], {\"name\": \"Alice\"}]\n",
        "\n",
        "#Accessing elements\n",
        "print(Mixed_list[2])  # Output:3.14\n",
        "print(Mixed_list[4][1])  # Output:2\n",
        "print(Mixed_list[5][\"name\"]) #Output:Alice"
      ],
      "metadata": {
        "colab": {
          "base_uri": "https://localhost:8080/"
        },
        "id": "-s-CCUasvfDp",
        "outputId": "207304f3-2cb8-4baf-8500-1219b7c51007"
      },
      "execution_count": null,
      "outputs": [
        {
          "output_type": "stream",
          "name": "stdout",
          "text": [
            "Hello\n",
            "2\n",
            "Alice\n"
          ]
        }
      ]
    },
    {
      "cell_type": "markdown",
      "source": [
        "Python lists are implemented as dynamic arrays in C, but they store references (pointers) to objects rather than the actual values. This allows a list to hold elements of different types while still being efficient.\n",
        "\n",
        "Use Cases for Mixed-Type Lists\n",
        "\n",
        "  - Storing related but diverse data, like a record containing different fields ([\"Alice\", 30, 5.7, True]).\n",
        "  - Creating heterogeneous data structures, such as JSON-like structures.\n",
        "  - Handling dynamic and flexible data processing in machine learning, data science, or APIs"
      ],
      "metadata": {
        "id": "p2nMFEy_wg0h"
      }
    },
    {
      "cell_type": "markdown",
      "source": [
        "10.Explain why strings are immutable in Python.\n",
        "\n",
        " In Python, strings are immutable, meaning their values cannot be changed after they are created. This design choice is intentional and has several advantages.\n",
        "\n",
        "1. Memory Efficiency (String Interning)\n",
        "Python interns (caches) some strings for performance. If strings were mutable, modifying one instance could unintentionally affect another."
      ],
      "metadata": {
        "id": "MBwvmHhlvdPP"
      }
    },
    {
      "cell_type": "code",
      "source": [
        "#example:\n",
        "a = \"hello\"\n",
        "b = \"hello\"\n",
        "print(a is b)  # True (Both refer to the same memory location)"
      ],
      "metadata": {
        "id": "y3fckFT1xeOV"
      },
      "execution_count": null,
      "outputs": []
    },
    {
      "cell_type": "markdown",
      "source": [
        "  - If strings were mutable, changing a would also change b, which is problematic.\n",
        "  - By making strings immutable, Python avoids this issue."
      ],
      "metadata": {
        "id": "BO_1qggLxlRW"
      }
    },
    {
      "cell_type": "markdown",
      "source": [
        "2. Hashability (Dictionary & Set Keys)\n",
        "\n",
        "  - Strings are hashable, meaning they can be used as keys in dictionaries or elements in sets. Hash values depend on content, so if strings were mutable, their hash could change, breaking dictionary lookups."
      ],
      "metadata": {
        "id": "nThmVUWhxrXx"
      }
    },
    {
      "cell_type": "code",
      "source": [
        "#example:\n",
        "my_dict = {\"name\": \"Alice\"}\n",
        "print(hash(\"name\"))  # Works because \"name\" is immutable"
      ],
      "metadata": {
        "id": "Vo-0bYz-x3Te"
      },
      "execution_count": null,
      "outputs": []
    },
    {
      "cell_type": "markdown",
      "source": [
        "If strings were mutable, changing \"name\" inside my_dict would break the lookup."
      ],
      "metadata": {
        "id": "RdaDI8zxyBDk"
      }
    },
    {
      "cell_type": "markdown",
      "source": [
        "3. Security (Thread Safety & Integrity)\n",
        "\n",
        "  - Immutability ensures thread safety since multiple threads can access strings without worrying about modifications. It also protects sensitive data from accidental changes."
      ],
      "metadata": {
        "id": "oIUSv2F0yDqa"
      }
    },
    {
      "cell_type": "code",
      "source": [
        "#example:\n",
        "password = \"secure123\"\n",
        "# If password were mutable, another part of the program could modify it unintentionally."
      ],
      "metadata": {
        "id": "fyz4n4uSyPT4"
      },
      "execution_count": null,
      "outputs": []
    },
    {
      "cell_type": "markdown",
      "source": [
        "4. Simplifies String Operations\n",
        "Because strings are immutable, operations like concatenation and slicing return new strings rather than modifying the original."
      ],
      "metadata": {
        "id": "6uF-UEd5yb9i"
      }
    },
    {
      "cell_type": "code",
      "source": [
        "#example:\n",
        "s = \"hello\"\n",
        "s += \" world\"  # Creates a new string, does not modify \"s\" in place\n",
        "print(s)  # \"hello world\""
      ],
      "metadata": {
        "colab": {
          "base_uri": "https://localhost:8080/"
        },
        "id": "TOWoFOVvyelo",
        "outputId": "2f98b32f-f413-49ea-da58-65c35a97b241"
      },
      "execution_count": null,
      "outputs": [
        {
          "output_type": "stream",
          "name": "stdout",
          "text": [
            "hello world\n"
          ]
        }
      ]
    },
    {
      "cell_type": "markdown",
      "source": [
        "If strings were mutable, modifying s in place could lead to unexpected side effects."
      ],
      "metadata": {
        "id": "evT8wTW0ymFj"
      }
    },
    {
      "cell_type": "markdown",
      "source": [
        "Conclusion:\n",
        "\n",
        "Python strings are immutable because it enhances performance, security, thread safety, and usability. If you need a mutable alternative, you can use a list:\n",
        "\n",
        "\n"
      ],
      "metadata": {
        "id": "HLEGp8kJyo8t"
      }
    },
    {
      "cell_type": "code",
      "source": [
        "mutable_str = list(\"hello\")\n",
        "mutable_str[0] = \"H\"\n",
        "print(\"\".join(mutable_str))  # \"Hello\""
      ],
      "metadata": {
        "id": "tYueWT5ay469"
      },
      "execution_count": null,
      "outputs": []
    },
    {
      "cell_type": "markdown",
      "source": [
        "**11.What advantages do dictionaries offer over lists for certain tasks?**\n",
        "\n",
        "Advantages of Dictionaries Over Lists in Python:\n",
        "Dictionaries (dict) and lists (list) are both essential data structures in Python, but dictionaries offer several advantages for specific tasks.\n",
        "\n",
        "1. Faster Lookups (O(1) vs. O(n))\n",
        "  - Dictionaries: Provide O(1) (constant-time) lookup, insertion, and deletion on average because they use a hash table.\n",
        "  - Lists: Require O(n) (linear-time) lookup when searching for a specific value, as they must scan elements sequentially.\n"
      ],
      "metadata": {
        "id": "pbdt9fFdzKKC"
      }
    },
    {
      "cell_type": "code",
      "source": [
        "#Example: Searching for a value\n",
        "# Using a dictionary (Fast O(1) lookup)\n",
        "phone_book = {\"Alice\": 1234, \"Bob\": 5678}\n",
        "print(phone_book[\"Alice\"])  # O(1) lookup\n",
        "\n",
        "# Using a list (Slow O(n) lookup)\n",
        "contacts = [(\"Alice\", 1234), (\"Bob\", 5678)]\n",
        "for name, number in contacts:\n",
        "    if name == \"Alice\":\n",
        "        print(number)  # O(n) lookup\n",
        "#Use a dictionary when fast key-based lookups are needed."
      ],
      "metadata": {
        "id": "whTMbZ-nz9Qp"
      },
      "execution_count": null,
      "outputs": []
    },
    {
      "cell_type": "markdown",
      "source": [
        "2. Key-Value Pair Organization\n",
        "  - Dictionaries store data in key-value pairs, making them ideal for structured data.\n",
        "  - Lists are best for ordered, sequential data without specific keys."
      ],
      "metadata": {
        "id": "por-fdki0PHz"
      }
    },
    {
      "cell_type": "code",
      "source": [
        "#example:Storing Student Data\n",
        "\n",
        "# Dictionary: Key-value pairs (better for structured data)\n",
        "student = {\"name\": \"Alice\", \"age\": 25, \"grade\": \"A\"}\n",
        "\n",
        "# List: Less structured, harder to access specific values\n",
        "student_list = [\"Alice\", 25, \"A\"]\n",
        "\n",
        "print(student[\"age\"])  # Easy access with keys\n",
        "# Harder with a list: Need to remember index positions\n",
        "\n",
        "#Use dictionaries for structured, key-value-based data storage."
      ],
      "metadata": {
        "id": "oyarQ1o10fSe"
      },
      "execution_count": null,
      "outputs": []
    },
    {
      "cell_type": "markdown",
      "source": [
        "3. Avoiding Duplicates\n",
        "  - Dictionaries inherently prevent duplicate keys, making them great for unique mappings.\n",
        "  - Lists allow duplicates, which can be problematic for certain use cases"
      ],
      "metadata": {
        "id": "CmcOyB6B034A"
      }
    },
    {
      "cell_type": "code",
      "source": [
        "#Example: Storing Unique User Data\n",
        "\n",
        "users = {\"Alice\": \"alice@email.com\", \"Bob\": \"bob@email.com\"}\n",
        "# Alice cannot be added twice with a different email.\n",
        "#Use dictionaries when you need unique keys"
      ],
      "metadata": {
        "id": "GvA76xqO0__7"
      },
      "execution_count": null,
      "outputs": []
    },
    {
      "cell_type": "markdown",
      "source": [
        "4. More Readable Code\n",
        "Dictionaries provide self-documenting code by using meaningful keys instead of numerical indices."
      ],
      "metadata": {
        "id": "0VFyK9V31Q3s"
      }
    },
    {
      "cell_type": "code",
      "source": [
        "#Example: Representing a Book\n",
        "\n",
        "# Dictionary (clear and readable)\n",
        "book = {\"title\": \"Python 101\", \"author\": \"John Doe\", \"year\": 2021}\n",
        "\n",
        "# List (less readable, relies on index positions)\n",
        "book_list = [\"Python 101\", \"John Doe\", 2021]\n",
        "#Use dictionaries for better code readability."
      ],
      "metadata": {
        "id": "IrFDlGHh1WO9"
      },
      "execution_count": null,
      "outputs": []
    },
    {
      "cell_type": "markdown",
      "source": [
        "5. Memory Efficiency for Sparse Data\n",
        "If you need to store values at specific indices but have a large range of possible indices, a dictionary can be more efficient than a list"
      ],
      "metadata": {
        "id": "qiC_bTjG1mZI"
      }
    },
    {
      "cell_type": "code",
      "source": [
        "#Example: Storing Sparse Data\n",
        "# List with many empty spaces (wasteful memory usage)\n",
        "sparse_list = [None] * 1000000\n",
        "sparse_list[999999] = \"Data\"\n",
        "\n",
        "# Dictionary (only stores necessary keys)\n",
        "sparse_dict = {999999: \"Data\"}\n",
        "\n",
        "#Use dictionaries for sparse datasets where only some keys have values."
      ],
      "metadata": {
        "id": "j-DNHd4n1rKJ"
      },
      "execution_count": null,
      "outputs": []
    },
    {
      "cell_type": "markdown",
      "source": [
        "We Used a list:\n",
        "  - Ordered data where index-based access is needed (my_list[0])\n",
        "  - Iterating through elements sequentially\n",
        "  - When duplicate values are necessary\n",
        "  - When memory usage needs to be minimal (dictionaries have extra overhead for hashing)"
      ],
      "metadata": {
        "id": "REqMoZ6l14iq"
      }
    },
    {
      "cell_type": "markdown",
      "source": [
        "**12.Describe a scenario where using a tuple would be preferable over a list**.\n",
        "\n",
        "Using a Tuple Instead of a List\n",
        "A tuple is preferable over a list when you need an immutable, fixed collection of values that should not change during execution.\n",
        "\n",
        "Example Scenario: Storing GPS Coordinates (Latitude, Longitude)\n",
        "\n",
        "Imagine we're developing a mapping application that stores fixed GPS coordinates for landmarks.\n",
        "\n",
        "Why Use a Tuple?\n",
        " - 1.Immutability: GPS coordinates should not change once assigned.\n",
        " - 2.Faster Performance: Tuples are more memory-efficient and faster than lists for fixed data.\n",
        " - 3.Hashability: Tuples can be used as dictionary keys or set elements, unlike lists.\n",
        "\n",
        "Implementation Example\n"
      ],
      "metadata": {
        "id": "PlSDkJh72LX-"
      }
    },
    {
      "cell_type": "code",
      "source": [
        "#Implementation Example\n",
        "# Using a tuple to store GPS coordinates (immutable)\n",
        "eiffel_tower = (48.8584, 2.2945)\n",
        "\n",
        "# Using a dictionary to map locations to coordinates\n",
        "landmarks = {\n",
        "    \"Eiffel Tower\": (48.8584, 2.2945),\n",
        "    \"Statue of Liberty\": (40.6892, -74.0445),\n",
        "}\n",
        "\n",
        "print(landmarks[\"Eiffel Tower\"])  # (48.8584, 2.2945)"
      ],
      "metadata": {
        "id": "Oza7xK3M3s0B"
      },
      "execution_count": null,
      "outputs": []
    },
    {
      "cell_type": "markdown",
      "source": [
        "Benefits of a Tuple Here:\n",
        "\n",
        "- Prevents accidental modification of coordinates.\n",
        "- More memory-efficient than using a list.\n",
        "- Allows use as a dictionary key."
      ],
      "metadata": {
        "id": "67unfyPF32H5"
      }
    },
    {
      "cell_type": "markdown",
      "source": [
        "Other Scenarios Where Tuples Are Preferred\n",
        "1.Returning Multiple Values from a Function\n"
      ],
      "metadata": {
        "id": "Dqt3KiRU4Aan"
      }
    },
    {
      "cell_type": "code",
      "source": [
        "def get_user():\n",
        "    return (\"Alice\", 30, \"Engineer\")  # Name, age, profession\n",
        "\n",
        "user = get_user()\n",
        "print(user[0])  # Alice"
      ],
      "metadata": {
        "id": "TAtvyEsx4F1X"
      },
      "execution_count": null,
      "outputs": []
    },
    {
      "cell_type": "markdown",
      "source": [
        "2.Storing Fixed Configuration Settings"
      ],
      "metadata": {
        "id": "58Qyp3994JYN"
      }
    },
    {
      "cell_type": "code",
      "source": [
        "SERVER_CONFIG = (\"192.168.1.1\", 8080)  # IP, Port"
      ],
      "metadata": {
        "id": "D6rU3m2H4UlW"
      },
      "execution_count": null,
      "outputs": []
    },
    {
      "cell_type": "markdown",
      "source": [
        "3.Using as Dictionary Keys"
      ],
      "metadata": {
        "id": "u04X42ra4RpO"
      }
    },
    {
      "cell_type": "code",
      "source": [
        "student_scores = {(\"Alice\", \"Math\"): 95, (\"Bob\", \"Science\"): 88}"
      ],
      "metadata": {
        "id": "wGe9d7_f4XSz"
      },
      "execution_count": null,
      "outputs": []
    },
    {
      "cell_type": "markdown",
      "source": [
        " **13. How do sets handle duplicate values in Python?**\n",
        "\n",
        "In Python, sets automatically remove duplicate values because they are unordered collections of unique elements.\n",
        "\n",
        "1. Duplicate Removal\n",
        "\n",
        "When adding elements to a set, Python ensures that only unique values are stored. If duplicates are included, they are automatically discarded.\n",
        "\n",
        "\n"
      ],
      "metadata": {
        "id": "AQDwYOfH4cWX"
      }
    },
    {
      "cell_type": "code",
      "source": [
        "#Example: Creating a Set with Duplicates\n",
        "numbers = {1, 2, 2, 3, 4, 4, 5}\n",
        "print(numbers)  # Output: {1, 2, 3, 4, 5} (duplicates removed)"
      ],
      "metadata": {
        "id": "MhOrO1IS5LBq"
      },
      "execution_count": null,
      "outputs": []
    },
    {
      "cell_type": "markdown",
      "source": [
        "2. Adding Duplicate Elements\n",
        "If we try to add a duplicate element, Python simply ignores it.\n",
        "\n"
      ],
      "metadata": {
        "id": "lWstzAkU5VYy"
      }
    },
    {
      "cell_type": "code",
      "source": [
        "#Example: Adding an Existing Element\n",
        "colors = {\"red\", \"blue\", \"green\"}\n",
        "colors.add(\"blue\")  # \"blue\" is already in the set\n",
        "print(colors)  # Output: {'red', 'blue', 'green'} (no duplicate added)"
      ],
      "metadata": {
        "id": "b0j9GHL65bpn"
      },
      "execution_count": null,
      "outputs": []
    },
    {
      "cell_type": "markdown",
      "source": [
        "3. Converting a List to a Set to Remove Duplicates\n",
        "A common trick is using a set to remove duplicates from a list."
      ],
      "metadata": {
        "id": "bGmcalwb5h78"
      }
    },
    {
      "cell_type": "code",
      "source": [
        "#Example:Removing Duplicates from A List\n",
        "numbers_list = [1,2,3,4,5,5,4,3,2,1]\n",
        "unique_numbers = set(numbers_list)\n",
        "print(unique_numbers)  # Output: {1, 2, 3, 4, 5}"
      ],
      "metadata": {
        "id": "S4CkczTn5lFU"
      },
      "execution_count": null,
      "outputs": []
    },
    {
      "cell_type": "markdown",
      "source": [
        "4. When to Use Sets for Duplicate Handling\n",
        "- Filtering unique values from a dataset\n",
        "- Checking for membership efficiently (O(1) average time complexity)\n",
        "- Performing set operations (union, intersection, difference)"
      ],
      "metadata": {
        "id": "CI-w-DYM57P_"
      }
    },
    {
      "cell_type": "markdown",
      "source": [
        "**14.How does the “in” keyword work differently for lists and dictionaries?**\n",
        "\n",
        "How the 'in' Keyword Works Differently for Lists and Dictionaries in Python\n",
        "\n",
        "The in keyword is used to check membership in both lists and dictionaries, but it behaves differently for each.\n"
      ],
      "metadata": {
        "id": "v80ZZ3rB6Bh4"
      }
    },
    {
      "cell_type": "markdown",
      "source": [
        "1. in with Lists (Linear Search - O(n))\n",
        "When checking if a value exists in a list, Python iterates through each element one by one.\n",
        "This results in O(n) time complexity (linear time), meaning the larger the list, the longer it takes."
      ],
      "metadata": {
        "id": "ro6aI8UL8R2R"
      }
    },
    {
      "cell_type": "code",
      "source": [
        "#Example: Checking Membership in a List\n",
        "\n",
        "numbers = [10, 20, 30, 40, 50]\n",
        "\n",
        "print(30 in numbers)  # True (Python scans through the list)\n",
        "print(100 in numbers)  # False"
      ],
      "metadata": {
        "id": "2cpUhbnm8YLI"
      },
      "execution_count": null,
      "outputs": []
    },
    {
      "cell_type": "markdown",
      "source": [
        " Efficiency: Slower for large lists because it requires scanning each element.\n",
        "\n",
        "2. in with Dictionaries (Key Lookup Using Hashing)\n",
        "When used with a dictionary, in checks for the presence of a key, not a value.\n",
        "Python uses a hash table, making this an O(1) average-time operation (constant time).\n",
        "\n",
        "Example: Checking Membership in a Dictionary"
      ],
      "metadata": {
        "id": "tu80yp_v8rkR"
      }
    },
    {
      "cell_type": "code",
      "source": [
        "student_grades = {\"Alice\": 90, \"Bob\": 85, \"Charlie\": 95}\n",
        "\n",
        "print(\"Alice\" in student_grades)  # True (checks keys)\n",
        "print(90 in student_grades)  # False (does NOT check values)"
      ],
      "metadata": {
        "id": "7je_AL4Q81AB"
      },
      "execution_count": null,
      "outputs": []
    },
    {
      "cell_type": "markdown",
      "source": [
        " Efficiency: Much faster than lists, especially for large datasets, because it uses hashing.\n",
        "\n",
        "3. Checking Values in a Dictionary (values() or items())\n",
        "\n",
        "If we need to check for a value in a dictionary:"
      ],
      "metadata": {
        "id": "4lHuayEr85fA"
      }
    },
    {
      "cell_type": "code",
      "source": [
        "print(90 in student_grades.values())  # True (checks values)"
      ],
      "metadata": {
        "id": "3LsRJHuK9Bya"
      },
      "execution_count": null,
      "outputs": []
    },
    {
      "cell_type": "code",
      "source": [
        "#To check for a key-value pair:\n",
        "print((\"Alice\", 90) in student_grades.items())  # True\n"
      ],
      "metadata": {
        "id": "9tH6959D9S2J"
      },
      "execution_count": null,
      "outputs": []
    },
    {
      "cell_type": "markdown",
      "source": [
        "- Use a dictionary when searching by key is needed frequently.\n",
        "- Use a list when searching for general values in an ordered sequence."
      ],
      "metadata": {
        "id": "eXjyiG4D9bRx"
      }
    },
    {
      "cell_type": "markdown",
      "source": [
        "**15.Can you modify the elements of a tuple? Explain why or why not.**\n",
        "\n",
        "No, you cannot modify the elements of a tuple in Python because tuples are immutable.\n",
        "\n",
        "Explanation:\n",
        "\n",
        "- A tuple is an ordered collection of elements, similar to a list, but once a tuple is created, its elements cannot be changed, added, or removed.\n",
        "- This immutability is due to the way tuples are stored in memory, which helps optimize performance and ensures data integrity.\n",
        "- If you try to modify an element of a tuple, Python will raise a TypeError.\n"
      ],
      "metadata": {
        "id": "OE15sCsHkTBo"
      }
    },
    {
      "cell_type": "code",
      "source": [
        "#example:\n",
        "tup = (1, 2, 3)\n",
        "tup[0] = 10  # Trying to modify the first element"
      ],
      "metadata": {
        "id": "VY-Mv9PTmCDo"
      },
      "execution_count": null,
      "outputs": []
    },
    {
      "cell_type": "code",
      "source": [
        "#Output:\n",
        "TypeError: 'tuple' object does not support item assignment"
      ],
      "metadata": {
        "id": "pdkjeFHPmMIt"
      },
      "execution_count": null,
      "outputs": []
    },
    {
      "cell_type": "markdown",
      "source": [
        "Workarounds:\n",
        "\n",
        "Although tuples themselves cannot be modified, you can:\n",
        "\n",
        "1.Create a new tuple with modified values:\n"
      ],
      "metadata": {
        "id": "U28tzIvamXvq"
      }
    },
    {
      "cell_type": "code",
      "source": [
        "tup = (1, 2, 3)\n",
        "new_tup = (10,) + tup[1:]  # Creating a new tuple\n",
        "print(new_tup)  # Output: (10, 2, 3)"
      ],
      "metadata": {
        "id": "IaBV3O0nmgj6"
      },
      "execution_count": null,
      "outputs": []
    },
    {
      "cell_type": "markdown",
      "source": [
        "2.Convert the tuple to a list, modify it, and convert it back to a tuple:"
      ],
      "metadata": {
        "id": "YPlx3IAtmk1z"
      }
    },
    {
      "cell_type": "code",
      "source": [
        "tup = (1, 2, 3)\n",
        "temp_list = list(tup)\n",
        "temp_list[0] = 10\n",
        "new_tup = tuple(temp_list)\n",
        "print(new_tup)  # Output: (10, 2, 3)"
      ],
      "metadata": {
        "id": "6klaF54HmoWw"
      },
      "execution_count": null,
      "outputs": []
    },
    {
      "cell_type": "markdown",
      "source": [
        "However, if a tuple contains mutable elements (like lists), the contents of those mutable elements can be changed:\n",
        "\n"
      ],
      "metadata": {
        "id": "LU7OXpzemsiz"
      }
    },
    {
      "cell_type": "code",
      "source": [
        "tup = ([1, 2], [3, 4])\n",
        "tup[0][0] = 10\n",
        "print(tup)  # Output: ([10, 2], [3, 4])"
      ],
      "metadata": {
        "id": "eX2cMje1mu1z"
      },
      "execution_count": null,
      "outputs": []
    },
    {
      "cell_type": "markdown",
      "source": [
        "This does not modify the tuple itself, only the list inside it.\n",
        "\n",
        "Conclusion:\n",
        "\n",
        "Tuples are immutable, meaning their elements cannot be modified directly. However, workarounds exist, such as creating a new tuple or modifying mutable objects inside a tuple."
      ],
      "metadata": {
        "id": "RQq01aZAm2jC"
      }
    },
    {
      "cell_type": "markdown",
      "source": [
        "**16.What is a nested dictionary, and give an example of its use case?**\n",
        "\n",
        "Nested Dictionary in Python\n",
        "A nested dictionary is a dictionary inside another dictionary. It allows hierarchical data storage, making it useful for organizing complex data structures.\n",
        "\n",
        "Example of a Nested Dictionary\n"
      ],
      "metadata": {
        "id": "Iz7MafgKkegO"
      }
    },
    {
      "cell_type": "code",
      "source": [
        "students = {\n",
        "    \"101\": {\"name\": \"Alice\", \"age\": 20, \"grades\": {\"math\": 90, \"science\": 85}},\n",
        "    \"102\": {\"name\": \"Bob\", \"age\": 22, \"grades\": {\"math\": 75, \"science\": 80}},\n",
        "}\n"
      ],
      "metadata": {
        "id": "pWWwz5ENnlrp"
      },
      "execution_count": null,
      "outputs": []
    },
    {
      "cell_type": "markdown",
      "source": [
        "- The outer dictionary (students) stores student IDs as keys.\n",
        "- The values are dictionaries containing student details.\n",
        "- The \"grades\" key itself contains another dictionary.\n",
        "\n",
        "Use Case: Storing Structured Data\n",
        "\n",
        "- A nested dictionary is useful when handling structured data like:\n",
        "\n",
        "     1.Databases in memory (e.g., student records, employee details).\n",
        "  2.Configurations (e.g., JSON-like settings storage).\n",
        "  3.Hierarchical relationships (e.g., family trees, organizational charts).\n",
        "\n",
        "Example: Accessing Data"
      ],
      "metadata": {
        "id": "J3WU787fnqRr"
      }
    },
    {
      "cell_type": "code",
      "source": [
        "# Get Alice's age\n",
        "print(students[\"101\"][\"age\"])  # Output: 20\n",
        "\n",
        "# Get Bob's math grade\n",
        "print(students[\"102\"][\"grades\"][\"math\"])  # Output: 75"
      ],
      "metadata": {
        "id": "9rBhCXjvonWc"
      },
      "execution_count": null,
      "outputs": []
    },
    {
      "cell_type": "markdown",
      "source": [
        "Modifying a Nested Dictionary"
      ],
      "metadata": {
        "id": "a1UcitO9ow0N"
      }
    },
    {
      "cell_type": "code",
      "source": [
        "# Updating Alice's Science grade\n",
        "students[\"101\"][\"grades\"][\"science\"] = 95\n",
        "print(students[\"101\"][\"grades\"])  # Output: {'math': 90, 'science': 95}"
      ],
      "metadata": {
        "id": "8yTZC_iAoy4h"
      },
      "execution_count": null,
      "outputs": []
    },
    {
      "cell_type": "markdown",
      "source": [
        "Conclusion:\n",
        "\n",
        "Nested dictionaries provide a powerful way to store and manipulate hierarchical data in Python, making them ideal for real-world applications like databases, configurations, and structured records."
      ],
      "metadata": {
        "id": "0kuLJ1_Po3at"
      }
    },
    {
      "cell_type": "markdown",
      "source": [
        "**17.Describe the time complexity of accessing elements in a dictionary.**\n",
        "\n",
        "In Python, dictionaries are implemented using a hash table, which allows for very efficient lookups.\n",
        "\n",
        "Time Complexity of Accessing Elements in a Dictionary:\n",
        "- Average-case time complexity: O(1) (constant time)\n",
        "- Worst-case time complexity: O(n) (linear time)\n",
        "\n",
        "Explanation:\n",
        "\n",
        "1.Average-case (O(1)):\n",
        "\n",
        "- When you access an element in a dictionary using its key, Python computes the hash value of the key. It then uses this hash to directly access the corresponding value.\n",
        "- This process is very efficient, and typically takes constant time, O(1), because Python dictionaries are implemented in a way that allows for direct access based on the hash.\n"
      ],
      "metadata": {
        "id": "2XR8bO3Vkm3k"
      }
    },
    {
      "cell_type": "code",
      "source": [
        "#example:\n",
        "my_dict = {\"a\": 1, \"b\": 2, \"c\": 3}\n",
        "print(my_dict[\"b\"])  # O(1) time complexity"
      ],
      "metadata": {
        "id": "_bIXmxQppqTr"
      },
      "execution_count": null,
      "outputs": []
    },
    {
      "cell_type": "markdown",
      "source": [
        "2.Worst-case (O(n)):\n",
        "\n",
        "- In rare cases, hash collisions can occur, where multiple keys have the same hash value. When this happens, Python has to handle the collision by storing the conflicting keys in a linked list or another data structure.\n",
        "- If there are many collisions, accessing a value might require checking multiple keys in the same hash bucket, leading to a worst-case time complexity of O(n), where n is the number of elements in the dictionary.\n",
        "- However, with a good hash function and rehashing (dynamic resizing of the dictionary), the number of collisions is generally kept low, and the average-case performance remains O(1).\n",
        "\n",
        "Why is it O(1) on average?\n",
        "- The hash table allows for direct access to the location where the value is stored based on the hash of the key.\n",
        "- This direct access is much faster than searching through a list or other data structures that might require traversing all elements.\n",
        "\n",
        "Example of Accessing a Dictionary Element:\n",
        "\n",
        "\n",
        "\n"
      ],
      "metadata": {
        "id": "ncYVa2PupzgO"
      }
    },
    {
      "cell_type": "code",
      "source": [
        "my_dict = {\"apple\": 3, \"banana\": 5, \"cherry\": 7}\n",
        "print(my_dict[\"banana\"])  # O(1) on average, direct access"
      ],
      "metadata": {
        "id": "bsR-qGUAqPhZ"
      },
      "execution_count": null,
      "outputs": []
    },
    {
      "cell_type": "markdown",
      "source": [
        "Summary:\n",
        "- Accessing an element in a dictionary is generally O(1) in the average case.\n",
        "- In rare situations with many hash collisions, the time complexity can degrade to O(n), but this is uncommon with well-implemented dictionaries."
      ],
      "metadata": {
        "id": "dMhiVQiCqVTV"
      }
    },
    {
      "cell_type": "markdown",
      "source": [
        "**20.Explain the difference between a list and a dictionary in terms of data retrieval.**\n",
        "\n",
        "Difference Between a List and a Dictionary in Terms of Data Retrieval:\n",
        "\n",
        "Both lists and dictionaries are fundamental data structures in Python, but they handle data retrieval very differently.\n",
        "\n",
        "1. List\n",
        "- A list is an ordered collection of elements indexed by integers (starting from 0).\n",
        "- Data retrieval is done by specifying the index of the element you want to access.\n",
        "Characteristics of Lists:\n",
        "- Index-based: You retrieve elements using an index.\n",
        "- Order-preserving: The order of elements in the list is maintained.\n",
        "- Sequential Search: If you need to access an element by its index, the lookup is very fast, but if you are searching for an element by its value, Python may need to iterate over the entire list (i.e., a linear search).\n",
        "\n",
        "Time Complexity for Data Retrieval in Lists:\n",
        "- Access by index: O(1) (constant time).\n",
        "- Search by value: O(n) (linear time), because it may need to check each element in the list until the desired value is found.\n",
        "\n"
      ],
      "metadata": {
        "id": "oSYk7aVfk8nQ"
      }
    },
    {
      "cell_type": "code",
      "source": [
        "my_list = [10, 20, 30, 40, 50]\n",
        "print(my_list[2])  # O(1), retrieves element at index 2 (value: 30)"
      ],
      "metadata": {
        "id": "8dLYHWE-rHK4"
      },
      "execution_count": null,
      "outputs": []
    },
    {
      "cell_type": "markdown",
      "source": [
        "2. Dictionary\n",
        "\n",
        "- A dictionary is an unordered collection of key-value pairs, where each key is unique and is mapped to a value.\n",
        "- Data retrieval is done by specifying the key, not the index.\n",
        "\n",
        "Characteristics of Dictionaries:\n",
        "- Key-based: You retrieve elements using a key.\n",
        "- Unordered: Dictionaries do not guarantee the order of elements (though as of Python 3.7+, the order is preserved due to implementation details).\n",
        "- Hash-based: Internally, dictionaries use hash tables, which allows for efficient retrieval by key.\n",
        "\n",
        "Time Complexity for Data Retrieval in Dictionaries:\n",
        "- Access by key: O(1) (constant time) on average, due to hash-based access.\n",
        "- Search by value: O(n) (linear time) because there is no direct way to search for a value unless you iterate over all the keys and check each one.\n",
        "\n"
      ],
      "metadata": {
        "id": "ioJS8j2JrPk6"
      }
    },
    {
      "cell_type": "code",
      "source": [
        "my_dict = {\"a\": 10, \"b\": 20, \"c\": 30}\n",
        "print(my_dict[\"b\"])  # O(1), retrieves value associated with key \"b\" (value: 20)"
      ],
      "metadata": {
        "id": "diq7Hc0lrOwl"
      },
      "execution_count": null,
      "outputs": []
    },
    {
      "cell_type": "markdown",
      "source": [
        "Summary:\n",
        "  - List: Retrieve data by index. If you need to find an item by value, it can take time proportional to the list’s size.\n",
        "  - Dictionary: Retrieve data by key, with very fast access (on average, O(1) time complexity). It’s ideal for looking up data based on unique identifiers (keys)."
      ],
      "metadata": {
        "id": "tk105mTvrua4"
      }
    },
    {
      "cell_type": "markdown",
      "source": [
        "#Practical Que-Ans"
      ],
      "metadata": {
        "id": "J_IyN46lFFKl"
      }
    },
    {
      "cell_type": "markdown",
      "source": [
        "1. Write a code to create a string with your name and print it"
      ],
      "metadata": {
        "id": "b8XSYZnSDrIM"
      }
    },
    {
      "cell_type": "code",
      "source": [
        "str = \"Shruti Raut\"\n",
        "print(str)"
      ],
      "metadata": {
        "colab": {
          "base_uri": "https://localhost:8080/"
        },
        "id": "Y1gRDAmjsyxx",
        "outputId": "d565c5ad-9461-4570-9424-81c7b93f2fe7"
      },
      "execution_count": null,
      "outputs": [
        {
          "output_type": "stream",
          "name": "stdout",
          "text": [
            "Shruti Raut\n"
          ]
        }
      ]
    },
    {
      "cell_type": "markdown",
      "source": [
        "2.Write a code to find the length of the string \"Hello World\"."
      ],
      "metadata": {
        "id": "Do84haTWDztN"
      }
    },
    {
      "cell_type": "code",
      "source": [
        "st = \"Hello World\"\n",
        "len(st)"
      ],
      "metadata": {
        "colab": {
          "base_uri": "https://localhost:8080/"
        },
        "id": "GBDnDeQXxcgu",
        "outputId": "053e20ed-9894-45df-8e7a-371e9c2fd179"
      },
      "execution_count": null,
      "outputs": [
        {
          "output_type": "execute_result",
          "data": {
            "text/plain": [
              "11"
            ]
          },
          "metadata": {},
          "execution_count": 19
        }
      ]
    },
    {
      "cell_type": "markdown",
      "source": [
        "3. Write a code to slice the first 3 characters from the string \"Python Programming\".\n"
      ],
      "metadata": {
        "id": "_zGTLI7dD3H6"
      }
    },
    {
      "cell_type": "code",
      "source": [
        "my_string = \"Python Programming\"\n",
        "my_string[:3]"
      ],
      "metadata": {
        "colab": {
          "base_uri": "https://localhost:8080/",
          "height": 36
        },
        "id": "JL9_-K-PxTG2",
        "outputId": "105c913e-199f-43e4-f73c-bb03115a77e3"
      },
      "execution_count": null,
      "outputs": [
        {
          "output_type": "execute_result",
          "data": {
            "text/plain": [
              "'Pyt'"
            ],
            "application/vnd.google.colaboratory.intrinsic+json": {
              "type": "string"
            }
          },
          "metadata": {},
          "execution_count": 18
        }
      ]
    },
    {
      "cell_type": "markdown",
      "source": [
        "4. Write a code to convert the string \"hello\" to uppercase."
      ],
      "metadata": {
        "id": "Hk0CLqlvECbP"
      }
    },
    {
      "cell_type": "code",
      "source": [
        "s = \"hello\"\n",
        "s.capitalize()\n"
      ],
      "metadata": {
        "colab": {
          "base_uri": "https://localhost:8080/",
          "height": 36
        },
        "id": "8ki0l-70wu44",
        "outputId": "3578d1ac-2b93-4ca9-b044-3cecc4ede824"
      },
      "execution_count": null,
      "outputs": [
        {
          "output_type": "execute_result",
          "data": {
            "text/plain": [
              "'Hello'"
            ],
            "application/vnd.google.colaboratory.intrinsic+json": {
              "type": "string"
            }
          },
          "metadata": {},
          "execution_count": 17
        }
      ]
    },
    {
      "cell_type": "markdown",
      "source": [
        "5. Write a code to replace the word \"apple\" with \"orange\" in the string \"I like apple\".\n"
      ],
      "metadata": {
        "id": "wwkI4A78EKpy"
      }
    },
    {
      "cell_type": "code",
      "source": [
        "str = \"I like apple\"\n",
        "str.replace(\"apple\",\"orange\")"
      ],
      "metadata": {
        "colab": {
          "base_uri": "https://localhost:8080/",
          "height": 36
        },
        "id": "wCNwB_Orwgej",
        "outputId": "fed565c0-54ef-4895-fbf4-ab08034e851a"
      },
      "execution_count": null,
      "outputs": [
        {
          "output_type": "execute_result",
          "data": {
            "text/plain": [
              "'I like orange'"
            ],
            "application/vnd.google.colaboratory.intrinsic+json": {
              "type": "string"
            }
          },
          "metadata": {},
          "execution_count": 13
        }
      ]
    },
    {
      "cell_type": "markdown",
      "source": [
        "6. Write a code to create a list with numbers 1 to 5 and print it"
      ],
      "metadata": {
        "id": "_uuMnxyXEPp-"
      }
    },
    {
      "cell_type": "code",
      "source": [
        "l = [1,2,3,4,5]\n",
        "print(l)"
      ],
      "metadata": {
        "id": "kMhIZYC4wYXf"
      },
      "execution_count": null,
      "outputs": []
    },
    {
      "cell_type": "markdown",
      "source": [
        "7. Write a code to append the number 10 to the list [1, 2, 3, 4]\n"
      ],
      "metadata": {
        "id": "g2KKtU3zEc9F"
      }
    },
    {
      "cell_type": "code",
      "source": [
        "l = [1,2,3,4]\n",
        "l.append(10)\n",
        "print(l)"
      ],
      "metadata": {
        "colab": {
          "base_uri": "https://localhost:8080/"
        },
        "id": "W-NQYfsDwPhG",
        "outputId": "bc5182aa-7698-4d52-c517-f260c3dceecc"
      },
      "execution_count": null,
      "outputs": [
        {
          "output_type": "stream",
          "name": "stdout",
          "text": [
            "[1, 2, 3, 4, 10]\n"
          ]
        }
      ]
    },
    {
      "cell_type": "markdown",
      "source": [
        "8.Write a code to remove the number 3 from the list [1, 2, 3, 4, 5]\n",
        "\n"
      ],
      "metadata": {
        "id": "QCc5TAXkEhOu"
      }
    },
    {
      "cell_type": "code",
      "source": [
        "my_list = [1, 2, 3, 4, 5]\n",
        "my_list.remove(3)\n",
        "print(my_list)"
      ],
      "metadata": {
        "colab": {
          "base_uri": "https://localhost:8080/"
        },
        "id": "8JzxS55DwJr8",
        "outputId": "6b4f0216-bd01-4518-c282-74d6285c0be6"
      },
      "execution_count": null,
      "outputs": [
        {
          "output_type": "stream",
          "name": "stdout",
          "text": [
            "[1, 2, 4, 5]\n"
          ]
        }
      ]
    },
    {
      "cell_type": "markdown",
      "source": [
        "9. Write a code to access the second element in the list ['a', 'b', 'c', 'd']\n"
      ],
      "metadata": {
        "id": "TzJm0Qn1ElV0"
      }
    },
    {
      "cell_type": "code",
      "source": [
        "lis= ['a','b','c','d']\n",
        "lis[1]\n"
      ],
      "metadata": {
        "colab": {
          "base_uri": "https://localhost:8080/",
          "height": 36
        },
        "id": "uddv32eNt-4V",
        "outputId": "eeb9fc56-2008-44cc-ada4-d67b548ca6c9"
      },
      "execution_count": null,
      "outputs": [
        {
          "output_type": "execute_result",
          "data": {
            "text/plain": [
              "'b'"
            ],
            "application/vnd.google.colaboratory.intrinsic+json": {
              "type": "string"
            }
          },
          "metadata": {},
          "execution_count": 10
        }
      ]
    },
    {
      "cell_type": "markdown",
      "source": [
        "**10. Write a code to reverse the list [10, 20, 30, 40, 50].**\n"
      ],
      "metadata": {
        "id": "8kduVuJjEq5f"
      }
    },
    {
      "cell_type": "code",
      "execution_count": null,
      "metadata": {
        "id": "s9ClvdhcDIX-",
        "colab": {
          "base_uri": "https://localhost:8080/"
        },
        "outputId": "93b664ca-660b-4930-d99a-33caedce815b"
      },
      "outputs": [
        {
          "output_type": "stream",
          "name": "stdout",
          "text": [
            "[50, 40, 30, 20, 10]\n"
          ]
        }
      ],
      "source": [
        "l = [10,20,30,40,50]\n",
        "l.reverse()\n",
        "print(l)\n"
      ]
    },
    {
      "cell_type": "markdown",
      "source": [
        "11. Write a code to create a tuple with the elements 10, 20, 30 and print it."
      ],
      "metadata": {
        "id": "7Ey_x7J1x6UL"
      }
    },
    {
      "cell_type": "code",
      "source": [
        "t = (10,20,30)\n",
        "print(t)"
      ],
      "metadata": {
        "colab": {
          "base_uri": "https://localhost:8080/"
        },
        "id": "tGw62j9YlzPB",
        "outputId": "9716419c-146c-40c6-c0b7-2358692dc46f"
      },
      "execution_count": null,
      "outputs": [
        {
          "output_type": "stream",
          "name": "stdout",
          "text": [
            "(10, 20, 30)\n"
          ]
        }
      ]
    },
    {
      "cell_type": "markdown",
      "source": [
        "12. Write a code to access the first element of the tuple ('apple', 'banana', 'cherry')."
      ],
      "metadata": {
        "id": "XlnwSFfqx7aK"
      }
    },
    {
      "cell_type": "code",
      "source": [
        "t = (\"apple\",\"banana\",\"cherry\")\n",
        "t[0]"
      ],
      "metadata": {
        "colab": {
          "base_uri": "https://localhost:8080/",
          "height": 36
        },
        "id": "x1syJ13emFvJ",
        "outputId": "f95f1cec-8272-4ae9-d69c-47bf5cfffcd1"
      },
      "execution_count": null,
      "outputs": [
        {
          "output_type": "execute_result",
          "data": {
            "text/plain": [
              "'apple'"
            ],
            "application/vnd.google.colaboratory.intrinsic+json": {
              "type": "string"
            }
          },
          "metadata": {},
          "execution_count": 4
        }
      ]
    },
    {
      "cell_type": "markdown",
      "source": [
        "13. Write a code to count how many times the number 2 appears in the tuple (1, 2, 3, 2, 4, 2)."
      ],
      "metadata": {
        "id": "yzPitdTblnpC"
      }
    },
    {
      "cell_type": "code",
      "source": [
        "tup = (1,2,3,2,4,2)\n",
        "tup.count(2)"
      ],
      "metadata": {
        "colab": {
          "base_uri": "https://localhost:8080/"
        },
        "id": "JwbAprUCmi2T",
        "outputId": "7cfaaf89-7a73-4e12-f84f-2ec969d62c03"
      },
      "execution_count": null,
      "outputs": [
        {
          "output_type": "execute_result",
          "data": {
            "text/plain": [
              "3"
            ]
          },
          "metadata": {},
          "execution_count": 7
        }
      ]
    },
    {
      "cell_type": "markdown",
      "source": [
        "14. Write a code to find the index of the element \"cat\" in the tuple ('dog', 'cat', 'rabbit')."
      ],
      "metadata": {
        "id": "__PYfM0Glpc6"
      }
    },
    {
      "cell_type": "code",
      "source": [
        "animals = ('dog','cat','rabbit')\n",
        "index = animals.index('cat')\n",
        "print(index)"
      ],
      "metadata": {
        "colab": {
          "base_uri": "https://localhost:8080/"
        },
        "id": "Zbc6GcZUnafg",
        "outputId": "7293f3d2-fc47-498d-bc13-3a3614f22ab1"
      },
      "execution_count": null,
      "outputs": [
        {
          "output_type": "stream",
          "name": "stdout",
          "text": [
            "1\n"
          ]
        }
      ]
    },
    {
      "cell_type": "markdown",
      "source": [
        "15. Write a code to check if the element \"banana\" is in the tuple ('apple', 'orange', 'banana').\n"
      ],
      "metadata": {
        "id": "46M3XSCPltrL"
      }
    },
    {
      "cell_type": "code",
      "source": [
        "fruits = ('apple','orange','banana')\n",
        "if 'banana' in fruits:\n",
        "  print(\"Banana is in the tuple.\")\n",
        "else:\n",
        "  print(\"banana is not in the tuple.\")"
      ],
      "metadata": {
        "colab": {
          "base_uri": "https://localhost:8080/"
        },
        "id": "8tbuBtaAn-OB",
        "outputId": "7f404e9e-e34f-4623-a34f-f0db6752e401"
      },
      "execution_count": null,
      "outputs": [
        {
          "output_type": "stream",
          "name": "stdout",
          "text": [
            "Banana is in the tuple.\n"
          ]
        }
      ]
    },
    {
      "cell_type": "markdown",
      "source": [
        "16. Write a code to create a set with the elements 1, 2, 3, 4, 5 and print it."
      ],
      "metadata": {
        "id": "-59nk-R3olev"
      }
    },
    {
      "cell_type": "code",
      "source": [
        "set = (1,2,3,4,5)\n",
        "print(set)"
      ],
      "metadata": {
        "colab": {
          "base_uri": "https://localhost:8080/"
        },
        "id": "oa6egUDYomg0",
        "outputId": "992b2f33-091b-47b9-b607-9e1ffa9a0b04"
      },
      "execution_count": null,
      "outputs": [
        {
          "output_type": "stream",
          "name": "stdout",
          "text": [
            "(1, 2, 3, 4, 5)\n"
          ]
        }
      ]
    },
    {
      "cell_type": "markdown",
      "source": [
        "17.Write a code to add the element 6 to the set {1, 2, 3, 4}."
      ],
      "metadata": {
        "id": "d-Wss_74ov3x"
      }
    },
    {
      "cell_type": "code",
      "source": [
        "s = {1,2,3,4}\n",
        "s.add(6)\n",
        "print(s)"
      ],
      "metadata": {
        "colab": {
          "base_uri": "https://localhost:8080/"
        },
        "id": "auT7a3hho6Mh",
        "outputId": "077abc14-c8e9-4dde-fd3f-164d0dcfab44"
      },
      "execution_count": null,
      "outputs": [
        {
          "output_type": "stream",
          "name": "stdout",
          "text": [
            "{1, 2, 3, 4, 6}\n"
          ]
        }
      ]
    }
  ]
}